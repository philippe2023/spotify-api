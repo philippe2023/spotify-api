{
 "cells": [
  {
   "cell_type": "code",
   "execution_count": null,
   "id": "498e71ef-9253-461d-b865-2570fff1bd94",
   "metadata": {},
   "outputs": [],
   "source": [
    "import config\n",
    "import spotipy\n",
    "import pandas as pd\n",
    "import json\n",
    "from spotipy.oauth2 import SpotifyClientCredentials"
   ]
  },
  {
   "cell_type": "code",
   "execution_count": null,
   "id": "dd979f84-30ff-4f26-a1f4-b0f588a206c9",
   "metadata": {},
   "outputs": [],
   "source": [
    "#Initialize SpotiPy with user credentials\n",
    "sp = spotipy.Spotify(auth_manager=SpotifyClientCredentials(client_id= config.client_id,\n",
    "                                                            client_secret= config.client_secret))"
   ]
  },
  {
   "cell_type": "code",
   "execution_count": null,
   "id": "382116ee-4fe4-435c-9a4f-bff5aa02328e",
   "metadata": {},
   "outputs": [],
   "source": [
    "playlist_rock = sp.user_playlist_tracks(\"spotify\", \"37i9dQZF1DX3oM43CtKnRV\",market=\"DE\")\n",
    "playlist_rock"
   ]
  },
  {
   "cell_type": "code",
   "execution_count": null,
   "id": "c01313c2-5464-4a3c-825e-0e60a84eec77",
   "metadata": {},
   "outputs": [],
   "source": [
    "list_of_songs = []\n",
    "song_names = []\n",
    "\n",
    "# Loop through the list of tracks\n",
    "for item in playlist_rock['items']:\n",
    "    track = item['track']\n",
    "    list_of_songs.append(track[\"id\"]) \n",
    "    song_names.append(track[\"name\"])\n",
    "\n",
    "# Fetch audio features for the collected track IDs\n",
    "song_features = sp.audio_features(list_of_songs)\n",
    "# Convert the features to a DataFrame\n",
    "playlist_rock_df = pd.DataFrame(song_features)\n",
    "# Keep relevant columns\n",
    "df_rock = playlist_rock_df[[\"danceability\", \"energy\", \"loudness\", \"speechiness\", \"acousticness\", \"instrumentalness\", \"liveness\", \"valence\", \"tempo\", \"id\", \"duration_ms\"]]\n",
    "# Add song names to the DataFrame\n",
    "df_rock[\"names\"] = song_names\n",
    "\n",
    "# Display the resulting DataFrame\n",
    "display(df_rock)"
   ]
  },
  {
   "cell_type": "code",
   "execution_count": null,
   "id": "bb705a12-885a-4a5d-b306-6570a70bcf17",
   "metadata": {},
   "outputs": [],
   "source": [
    "playlist_motivation = sp.user_playlist_tracks(\"spotify\", \"2fmxVDpboTzLaLAfj5ZaQW\",market=\"DE\")\n",
    "playlist_motivation"
   ]
  },
  {
   "cell_type": "code",
   "execution_count": null,
   "id": "7a2e1a00-8d79-4e7a-beae-9e03b9662042",
   "metadata": {},
   "outputs": [],
   "source": [
    "list_of_songs = []\n",
    "song_names = []\n",
    "\n",
    "# Loop through the list of tracks\n",
    "for item in playlist_motivation['items']:\n",
    "    track = item['track']\n",
    "    list_of_songs.append(track[\"id\"]) \n",
    "    song_names.append(track[\"name\"])\n",
    "\n",
    "# Fetch audio features for the collected track IDs\n",
    "song_features = sp.audio_features(list_of_songs)\n",
    "# Convert the features to a DataFrame\n",
    "playlist_motivation_df = pd.DataFrame(song_features)\n",
    "# Keep relevant columns\n",
    "df_motivation = playlist_motivation_df[[\"danceability\", \"energy\", \"loudness\", \"speechiness\", \"acousticness\", \"instrumentalness\", \"liveness\", \"valence\", \"tempo\", \"id\", \"duration_ms\"]]\n",
    "# Add song names to the DataFrame\n",
    "df_motivation[\"names\"] = song_names\n",
    "\n",
    "# Display the resulting DataFrame\n",
    "display(df_motivation)"
   ]
  },
  {
   "cell_type": "code",
   "execution_count": null,
   "id": "1b8edabe-f688-42e0-a089-faec6721f006",
   "metadata": {},
   "outputs": [],
   "source": [
    "playlist_pop = sp.user_playlist_tracks(\"spotify\", \"6mtYuOxzl58vSGnEDtZ9uB\",market=\"DE\")\n",
    "playlist_pop"
   ]
  },
  {
   "cell_type": "code",
   "execution_count": null,
   "id": "fcae643a-ba8d-49ae-826f-3e456ba63d67",
   "metadata": {},
   "outputs": [],
   "source": [
    "list_of_songs = []\n",
    "song_names = []\n",
    "\n",
    "# Loop through the list of tracks\n",
    "for item in playlist_pop['items']:\n",
    "    track = item['track']\n",
    "    list_of_songs.append(track[\"id\"]) \n",
    "    song_names.append(track[\"name\"])\n",
    "\n",
    "# Fetch audio features for the collected track IDs\n",
    "song_features = sp.audio_features(list_of_songs)\n",
    "# Convert the features to a DataFrame\n",
    "playlist_pop_df = pd.DataFrame(song_features)\n",
    "# Keep relevant columns\n",
    "df_pop = playlist_pop_df[[\"danceability\", \"energy\", \"loudness\", \"speechiness\", \"acousticness\", \"instrumentalness\", \"liveness\", \"valence\", \"tempo\", \"id\", \"duration_ms\"]]\n",
    "# Add song names to the DataFrame\n",
    "df_pop[\"names\"] = song_names\n",
    "\n",
    "# Display the resulting DataFrame\n",
    "display(df_pop)"
   ]
  },
  {
   "cell_type": "code",
   "execution_count": null,
   "id": "0d94e152-85e1-473b-929d-c6ea5ed9cece",
   "metadata": {},
   "outputs": [],
   "source": [
    "playlist_great = sp.user_playlist_tracks(\"spotify\", \"3Q1DIJ51dJpUO6RhnIHdVx\",market=\"DE\")"
   ]
  },
  {
   "cell_type": "code",
   "execution_count": null,
   "id": "a441066b-e459-4680-953c-69aebc416cb4",
   "metadata": {},
   "outputs": [],
   "source": [
    "list_of_songs = []\n",
    "song_names = []\n",
    "\n",
    "# Loop through the list of tracks\n",
    "for item in playlist_great['items']:\n",
    "    track = item['track']\n",
    "    list_of_songs.append(track[\"id\"]) \n",
    "    song_names.append(track[\"name\"])\n",
    "\n",
    "# Fetch audio features for the collected track IDs\n",
    "song_features = sp.audio_features(list_of_songs)\n",
    "# Convert the features to a DataFrame\n",
    "playlist_great_df = pd.DataFrame(song_features)\n",
    "# Keep relevant columns\n",
    "df_great = playlist_great_df[[\"danceability\", \"energy\", \"loudness\", \"speechiness\", \"acousticness\", \"instrumentalness\", \"liveness\", \"valence\", \"tempo\", \"id\", \"duration_ms\"]]\n",
    "# Add song names to the DataFrame\n",
    "df_great[\"names\"] = song_names\n",
    "\n",
    "# Display the resulting DataFrame\n",
    "display(df_great)"
   ]
  },
  {
   "cell_type": "code",
   "execution_count": null,
   "id": "c2c68d85-ea7c-4e8b-9c18-7df7209778b1",
   "metadata": {},
   "outputs": [],
   "source": [
    "playlist_all = sp.user_playlist_tracks(\"spotify\", \"0hdV9EPeOoLPLZ896PtxTf\",market=\"DE\")"
   ]
  },
  {
   "cell_type": "code",
   "execution_count": null,
   "id": "399077f5-327d-47df-972f-f90b2f9bd0ac",
   "metadata": {},
   "outputs": [],
   "source": [
    "list_of_songs = []\n",
    "song_names = []\n",
    "\n",
    "# Loop through the list of tracks\n",
    "for item in playlist_all['items']:\n",
    "    track = item['track']\n",
    "    list_of_songs.append(track[\"id\"]) \n",
    "    song_names.append(track[\"name\"])\n",
    "\n",
    "# Fetch audio features for the collected track IDs\n",
    "song_features = sp.audio_features(list_of_songs)\n",
    "# Convert the features to a DataFrame\n",
    "playlist_all_df = pd.DataFrame(song_features)\n",
    "# Keep relevant columns\n",
    "df_all = playlist_all_df[[\"danceability\", \"energy\", \"loudness\", \"speechiness\", \"acousticness\", \"instrumentalness\", \"liveness\", \"valence\", \"tempo\", \"id\", \"duration_ms\"]]\n",
    "# Add song names to the DataFrame\n",
    "df_all[\"names\"] = song_names\n",
    "\n",
    "# Display the resulting DataFrame\n",
    "display(df_all)"
   ]
  },
  {
   "cell_type": "code",
   "execution_count": null,
   "id": "04309217-de13-412e-9707-524fb94a477b",
   "metadata": {},
   "outputs": [],
   "source": [
    "playlist_creed = sp.user_playlist_tracks(\"spotify\", \"0OOq0aLWcdpwiTcFBXKzAL\",market=\"DE\")"
   ]
  },
  {
   "cell_type": "code",
   "execution_count": null,
   "id": "2c6df85a-1e06-427f-99b3-aa59fa626337",
   "metadata": {},
   "outputs": [],
   "source": [
    "list_of_songs = []\n",
    "song_names = []\n",
    "\n",
    "# Loop through the list of tracks\n",
    "for item in playlist_creed['items']:\n",
    "    track = item['track']\n",
    "    list_of_songs.append(track[\"id\"]) \n",
    "    song_names.append(track[\"name\"])\n",
    "\n",
    "# Fetch audio features for the collected track IDs\n",
    "song_features = sp.audio_features(list_of_songs)\n",
    "# Convert the features to a DataFrame\n",
    "playlist_creed_df = pd.DataFrame(song_features)\n",
    "# Keep relevant columns\n",
    "df_creed = playlist_creed_df[[\"danceability\", \"energy\", \"loudness\", \"speechiness\", \"acousticness\", \"instrumentalness\", \"liveness\", \"valence\", \"tempo\", \"id\", \"duration_ms\"]]\n",
    "# Add song names to the DataFrame\n",
    "df_creed[\"names\"] = song_names\n",
    "\n",
    "# Display the resulting DataFrame\n",
    "display(df_creed)"
   ]
  },
  {
   "cell_type": "code",
   "execution_count": null,
   "id": "e74bc1a5-947d-4256-8615-37e6615ead55",
   "metadata": {},
   "outputs": [],
   "source": [
    "playlist_crossfit = sp.user_playlist_tracks(\"spotify\", \"2tgHGy6VpMrrOt1hZANdMV\",market=\"DE\")"
   ]
  },
  {
   "cell_type": "code",
   "execution_count": null,
   "id": "7d3cdd4b-dfdb-4445-bff4-b2803a129b5f",
   "metadata": {},
   "outputs": [],
   "source": [
    "list_of_songs = []\n",
    "song_names = []\n",
    "\n",
    "# Loop through the list of tracks\n",
    "for item in playlist_crossfit['items']:\n",
    "    track = item['track']\n",
    "    list_of_songs.append(track[\"id\"]) \n",
    "    song_names.append(track[\"name\"])\n",
    "\n",
    "# Fetch audio features for the collected track IDs\n",
    "song_features = sp.audio_features(list_of_songs)\n",
    "# Convert the features to a DataFrame\n",
    "playlist_crossfit_df = pd.DataFrame(song_features)\n",
    "# Keep relevant columns\n",
    "df_crossfit = playlist_crossfit_df[[\"danceability\", \"energy\", \"loudness\", \"speechiness\", \"acousticness\", \"instrumentalness\", \"liveness\", \"valence\", \"tempo\", \"id\", \"duration_ms\"]]\n",
    "# Add song names to the DataFrame\n",
    "df_crossfit[\"names\"] = song_names\n",
    "\n",
    "# Display the resulting DataFrame\n",
    "display(df_crossfit)"
   ]
  },
  {
   "cell_type": "code",
   "execution_count": null,
   "id": "92f46922-d7bc-4564-bd90-b98aadfdc8d2",
   "metadata": {},
   "outputs": [],
   "source": [
    "playlist_german = sp.user_playlist_tracks(\"spotify\", \"0KwsbLDSEy7A5P9xHn1qGu\",market=\"DE\")"
   ]
  },
  {
   "cell_type": "code",
   "execution_count": null,
   "id": "460ff2b8-e1ed-461f-bb06-f3193265a415",
   "metadata": {},
   "outputs": [],
   "source": [
    "list_of_songs = []\n",
    "song_names = []\n",
    "\n",
    "# Loop through the list of tracks\n",
    "for item in playlist_german['items']:\n",
    "    track = item['track']\n",
    "    list_of_songs.append(track[\"id\"]) \n",
    "    song_names.append(track[\"name\"])\n",
    "\n",
    "# Fetch audio features for the collected track IDs\n",
    "song_features = sp.audio_features(list_of_songs)\n",
    "# Convert the features to a DataFrame\n",
    "playlist_german_df = pd.DataFrame(song_features)\n",
    "# Keep relevant columns\n",
    "df_german = playlist_german_df[[\"danceability\", \"energy\", \"loudness\", \"speechiness\", \"acousticness\", \"instrumentalness\", \"liveness\", \"valence\", \"tempo\", \"id\", \"duration_ms\"]]\n",
    "# Add song names to the DataFrame\n",
    "df_german[\"names\"] = song_names\n",
    "\n",
    "# Display the resulting DataFrame\n",
    "display(df_german)"
   ]
  },
  {
   "cell_type": "code",
   "execution_count": null,
   "id": "6d0c1b42-b57c-4365-ac18-dcfc2e844ac2",
   "metadata": {},
   "outputs": [],
   "source": [
    "playlist_schlager = sp.user_playlist_tracks(\"spotify\", \"5lS5fb5u4xAL0qhcuJRVpm\",market=\"DE\")"
   ]
  },
  {
   "cell_type": "code",
   "execution_count": null,
   "id": "1e553c15-2bf1-40f3-a291-52df2efe4d81",
   "metadata": {},
   "outputs": [],
   "source": [
    "list_of_songs = []\n",
    "song_names = []\n",
    "\n",
    "# Loop through the list of tracks\n",
    "for item in playlist_schlager['items']:\n",
    "    track = item['track']\n",
    "    list_of_songs.append(track[\"id\"]) \n",
    "    song_names.append(track[\"name\"])\n",
    "\n",
    "# Fetch audio features for the collected track IDs\n",
    "song_features = sp.audio_features(list_of_songs)\n",
    "# Convert the features to a DataFrame\n",
    "playlist_schlager_df = pd.DataFrame(song_features)\n",
    "# Keep relevant columns\n",
    "df_schlager = playlist_schlager_df[[\"danceability\", \"energy\", \"loudness\", \"speechiness\", \"acousticness\", \"instrumentalness\", \"liveness\", \"valence\", \"tempo\", \"id\", \"duration_ms\"]]\n",
    "# Add song names to the DataFrame\n",
    "df_schlager[\"names\"] = song_names\n",
    "\n",
    "# Display the resulting DataFrame\n",
    "display(df_schlager)"
   ]
  },
  {
   "cell_type": "code",
   "execution_count": null,
   "id": "a2ab0a87-afe1-4eec-ac5a-846f311ec6c9",
   "metadata": {},
   "outputs": [],
   "source": [
    "playlist_80s = sp.user_playlist_tracks(\"spotify\", \"37i9dQZF1DX4UtSsGT1Sbe\",market=\"DE\")"
   ]
  },
  {
   "cell_type": "code",
   "execution_count": null,
   "id": "9abda671-e85d-40d3-bead-5ccf0af3c117",
   "metadata": {},
   "outputs": [],
   "source": [
    "list_of_songs = []\n",
    "song_names = []\n",
    "\n",
    "# Loop through the list of tracks\n",
    "for item in playlist_80s['items']:\n",
    "    track = item['track']\n",
    "    list_of_songs.append(track[\"id\"]) \n",
    "    song_names.append(track[\"name\"])\n",
    "\n",
    "# Fetch audio features for the collected track IDs\n",
    "song_features = sp.audio_features(list_of_songs)\n",
    "# Convert the features to a DataFrame\n",
    "playlist_80s_df = pd.DataFrame(song_features)\n",
    "# Keep relevant columns\n",
    "df_80s = playlist_80s_df[[\"danceability\", \"energy\", \"loudness\", \"speechiness\", \"acousticness\", \"instrumentalness\", \"liveness\", \"valence\", \"tempo\", \"id\", \"duration_ms\"]]\n",
    "# Add song names to the DataFrame\n",
    "df_80s[\"names\"] = song_names\n",
    "\n",
    "# Display the resulting DataFrame\n",
    "display(df_80s)"
   ]
  },
  {
   "cell_type": "code",
   "execution_count": null,
   "id": "48362ddc-0c5a-49f5-9694-3b16c8288ccf",
   "metadata": {},
   "outputs": [],
   "source": [
    "playlist_90s = sp.user_playlist_tracks(\"spotify\", \"37i9dQZF1DXbTxeAdrVG2l\",market=\"DE\")"
   ]
  },
  {
   "cell_type": "code",
   "execution_count": null,
   "id": "8645a6d9-3e25-4e34-a21c-f43c8172f87b",
   "metadata": {},
   "outputs": [],
   "source": [
    "list_of_songs = []\n",
    "song_names = []\n",
    "\n",
    "# Loop through the list of tracks\n",
    "for item in playlist_90s['items']:\n",
    "    track = item['track']\n",
    "    list_of_songs.append(track[\"id\"]) \n",
    "    song_names.append(track[\"name\"])\n",
    "\n",
    "# Fetch audio features for the collected track IDs\n",
    "song_features = sp.audio_features(list_of_songs)\n",
    "# Convert the features to a DataFrame\n",
    "playlist_90s_df = pd.DataFrame(song_features)\n",
    "# Keep relevant columns\n",
    "df_90s = playlist_90s_df[[\"danceability\", \"energy\", \"loudness\", \"speechiness\", \"acousticness\", \"instrumentalness\", \"liveness\", \"valence\", \"tempo\", \"id\", \"duration_ms\"]]\n",
    "# Add song names to the DataFrame\n",
    "df_90s[\"names\"] = song_names\n",
    "\n",
    "# Display the resulting DataFrame\n",
    "display(df_90s)"
   ]
  },
  {
   "cell_type": "code",
   "execution_count": null,
   "id": "485885ec-881d-47d5-bc33-a2757a3525a7",
   "metadata": {},
   "outputs": [],
   "source": [
    "playlist_00s = sp.user_playlist_tracks(\"spotify\", \"37i9dQZF1DX4o1oenSJRJd\",market=\"DE\")"
   ]
  },
  {
   "cell_type": "code",
   "execution_count": null,
   "id": "c12ae998-50be-4f56-93fe-bd4ef90b1957",
   "metadata": {},
   "outputs": [],
   "source": [
    "list_of_songs = []\n",
    "song_names = []\n",
    "\n",
    "# Loop through the list of tracks\n",
    "for item in playlist_00s['items']:\n",
    "    track = item['track']\n",
    "    list_of_songs.append(track[\"id\"]) \n",
    "    song_names.append(track[\"name\"])\n",
    "\n",
    "# Fetch audio features for the collected track IDs\n",
    "song_features = sp.audio_features(list_of_songs)\n",
    "# Convert the features to a DataFrame\n",
    "playlist_00s_df = pd.DataFrame(song_features)\n",
    "# Keep relevant columns\n",
    "df_00s = playlist_00s_df[[\"danceability\", \"energy\", \"loudness\", \"speechiness\", \"acousticness\", \"instrumentalness\", \"liveness\", \"valence\", \"tempo\", \"id\", \"duration_ms\"]]\n",
    "# Add song names to the DataFrame\n",
    "df_00s[\"names\"] = song_names\n",
    "\n",
    "# Display the resulting DataFrame\n",
    "display(df_00s)"
   ]
  },
  {
   "cell_type": "code",
   "execution_count": null,
   "id": "9fd89083-3a15-41e2-acd8-ca7d082b270f",
   "metadata": {},
   "outputs": [],
   "source": [
    "playlist_10s = sp.user_playlist_tracks(\"spotify\", \"37i9dQZF1DX5Ejj0EkURtP\",market=\"DE\")"
   ]
  },
  {
   "cell_type": "code",
   "execution_count": null,
   "id": "73512331-77ca-4566-b42c-a8867a8dfa72",
   "metadata": {},
   "outputs": [],
   "source": [
    "list_of_songs = []\n",
    "song_names = []\n",
    "\n",
    "# Loop through the list of tracks\n",
    "for item in playlist_10s['items']:\n",
    "    track = item['track']\n",
    "    list_of_songs.append(track[\"id\"]) \n",
    "    song_names.append(track[\"name\"])\n",
    "\n",
    "# Fetch audio features for the collected track IDs\n",
    "song_features = sp.audio_features(list_of_songs)\n",
    "# Convert the features to a DataFrame\n",
    "playlist_10s_df = pd.DataFrame(song_features)\n",
    "# Keep relevant columns\n",
    "df_10s = playlist_10s_df[[\"danceability\", \"energy\", \"loudness\", \"speechiness\", \"acousticness\", \"instrumentalness\", \"liveness\", \"valence\", \"tempo\", \"id\", \"duration_ms\"]]\n",
    "# Add song names to the DataFrame\n",
    "df_10s[\"names\"] = song_names\n",
    "\n",
    "# Display the resulting DataFrame\n",
    "display(df_10s)"
   ]
  },
  {
   "cell_type": "code",
   "execution_count": null,
   "id": "6d372494-32f3-45f3-8485-5461f356a05e",
   "metadata": {},
   "outputs": [],
   "source": [
    "# List of DataFrames to concatenate\n",
    "dfs = [df_all, df_great, df_pop, df_motivation, df_rock, df_creed, df_crossfit, df_german, df_schlager, df_80s, df_90s, df_00s, df_10s]\n",
    "merged_df = pd.concat(dfs, ignore_index=True)\n",
    "\n",
    "# Display\n",
    "display(merged_df)"
   ]
  },
  {
   "cell_type": "code",
   "execution_count": null,
   "id": "c9fd6870-5519-482e-85c6-64171c5e05b6",
   "metadata": {},
   "outputs": [],
   "source": []
  }
 ],
 "metadata": {
  "kernelspec": {
   "display_name": "Python 3 (ipykernel)",
   "language": "python",
   "name": "python3"
  },
  "language_info": {
   "codemirror_mode": {
    "name": "ipython",
    "version": 3
   },
   "file_extension": ".py",
   "mimetype": "text/x-python",
   "name": "python",
   "nbconvert_exporter": "python",
   "pygments_lexer": "ipython3",
   "version": "3.12.4"
  }
 },
 "nbformat": 4,
 "nbformat_minor": 5
}
