{
 "cells": [
  {
   "cell_type": "markdown",
   "metadata": {},
   "source": [
    "imports"
   ]
  },
  {
   "cell_type": "code",
   "execution_count": 1,
   "metadata": {},
   "outputs": [],
   "source": [
    "import config\n",
    "import spotipy\n",
    "import pandas as pd\n",
    "import json\n",
    "from spotipy.oauth2 import SpotifyClientCredentials\n",
    "from IPython.display import IFrame\n",
    "import numpy as np\n",
    "import pickle\n"
   ]
  },
  {
   "cell_type": "code",
   "execution_count": 2,
   "metadata": {},
   "outputs": [],
   "source": [
    "with open(\"scaler.pkl\", \"rb\") as f:\n",
    "    scaler = pickle.load(f)\n",
    "\n",
    "with open(\"kmeans_model.pkl\", \"rb\") as f:\n",
    "    kmeans = pickle.load(f)"
   ]
  },
  {
   "cell_type": "code",
   "execution_count": 3,
   "metadata": {},
   "outputs": [],
   "source": [
    "sp = spotipy.Spotify(auth_manager=SpotifyClientCredentials(client_id= config.client_id,\n",
    "                                                            client_secret= config.client_secret))"
   ]
  },
  {
   "cell_type": "code",
   "execution_count": 4,
   "metadata": {},
   "outputs": [
    {
     "data": {
      "text/html": [
       "<div>\n",
       "<style scoped>\n",
       "    .dataframe tbody tr th:only-of-type {\n",
       "        vertical-align: middle;\n",
       "    }\n",
       "\n",
       "    .dataframe tbody tr th {\n",
       "        vertical-align: top;\n",
       "    }\n",
       "\n",
       "    .dataframe thead th {\n",
       "        text-align: right;\n",
       "    }\n",
       "</style>\n",
       "<table border=\"1\" class=\"dataframe\">\n",
       "  <thead>\n",
       "    <tr style=\"text-align: right;\">\n",
       "      <th></th>\n",
       "      <th>danceability</th>\n",
       "      <th>energy</th>\n",
       "      <th>loudness</th>\n",
       "      <th>speechiness</th>\n",
       "      <th>acousticness</th>\n",
       "      <th>instrumentalness</th>\n",
       "      <th>liveness</th>\n",
       "      <th>valence</th>\n",
       "      <th>tempo</th>\n",
       "      <th>duration_ms</th>\n",
       "      <th>cluster</th>\n",
       "      <th>id</th>\n",
       "      <th>names</th>\n",
       "    </tr>\n",
       "  </thead>\n",
       "  <tbody>\n",
       "    <tr>\n",
       "      <th>0</th>\n",
       "      <td>0.513</td>\n",
       "      <td>0.868</td>\n",
       "      <td>-5.061</td>\n",
       "      <td>0.0410</td>\n",
       "      <td>0.01850</td>\n",
       "      <td>0.000000</td>\n",
       "      <td>0.1210</td>\n",
       "      <td>0.3670</td>\n",
       "      <td>92.009</td>\n",
       "      <td>230467</td>\n",
       "      <td>0</td>\n",
       "      <td>1VU8t2MpJRLG5iFEIxqq7z</td>\n",
       "      <td>Geboren um zu leben</td>\n",
       "    </tr>\n",
       "    <tr>\n",
       "      <th>1</th>\n",
       "      <td>0.646</td>\n",
       "      <td>0.359</td>\n",
       "      <td>-10.388</td>\n",
       "      <td>0.1550</td>\n",
       "      <td>0.24700</td>\n",
       "      <td>0.914000</td>\n",
       "      <td>0.0872</td>\n",
       "      <td>0.1540</td>\n",
       "      <td>119.885</td>\n",
       "      <td>360147</td>\n",
       "      <td>6</td>\n",
       "      <td>4YRvb9B8cgvhst11qk8CKn</td>\n",
       "      <td>Sonnentanz</td>\n",
       "    </tr>\n",
       "    <tr>\n",
       "      <th>2</th>\n",
       "      <td>0.825</td>\n",
       "      <td>0.652</td>\n",
       "      <td>-3.183</td>\n",
       "      <td>0.0802</td>\n",
       "      <td>0.58100</td>\n",
       "      <td>0.000000</td>\n",
       "      <td>0.0931</td>\n",
       "      <td>0.9310</td>\n",
       "      <td>95.977</td>\n",
       "      <td>233713</td>\n",
       "      <td>2</td>\n",
       "      <td>7qiZfU4dY1lWllzX7mPBI3</td>\n",
       "      <td>Shape of You</td>\n",
       "    </tr>\n",
       "    <tr>\n",
       "      <th>3</th>\n",
       "      <td>0.694</td>\n",
       "      <td>0.770</td>\n",
       "      <td>-5.335</td>\n",
       "      <td>0.1490</td>\n",
       "      <td>0.17600</td>\n",
       "      <td>0.000011</td>\n",
       "      <td>0.1180</td>\n",
       "      <td>0.1630</td>\n",
       "      <td>125.905</td>\n",
       "      <td>184560</td>\n",
       "      <td>0</td>\n",
       "      <td>0E9ZjEAyAwOXZ7wJC0PD33</td>\n",
       "      <td>In My Mind</td>\n",
       "    </tr>\n",
       "    <tr>\n",
       "      <th>4</th>\n",
       "      <td>0.730</td>\n",
       "      <td>0.769</td>\n",
       "      <td>-5.114</td>\n",
       "      <td>0.0298</td>\n",
       "      <td>0.13800</td>\n",
       "      <td>0.000000</td>\n",
       "      <td>0.0473</td>\n",
       "      <td>0.5070</td>\n",
       "      <td>104.948</td>\n",
       "      <td>228093</td>\n",
       "      <td>0</td>\n",
       "      <td>4OSBTYWVwsQhGLF9NHvIbR</td>\n",
       "      <td>Rolling in the Deep</td>\n",
       "    </tr>\n",
       "    <tr>\n",
       "      <th>...</th>\n",
       "      <td>...</td>\n",
       "      <td>...</td>\n",
       "      <td>...</td>\n",
       "      <td>...</td>\n",
       "      <td>...</td>\n",
       "      <td>...</td>\n",
       "      <td>...</td>\n",
       "      <td>...</td>\n",
       "      <td>...</td>\n",
       "      <td>...</td>\n",
       "      <td>...</td>\n",
       "      <td>...</td>\n",
       "      <td>...</td>\n",
       "    </tr>\n",
       "    <tr>\n",
       "      <th>4630</th>\n",
       "      <td>0.719</td>\n",
       "      <td>0.580</td>\n",
       "      <td>-6.173</td>\n",
       "      <td>0.0903</td>\n",
       "      <td>0.08180</td>\n",
       "      <td>0.812000</td>\n",
       "      <td>0.1170</td>\n",
       "      <td>0.4900</td>\n",
       "      <td>170.099</td>\n",
       "      <td>131294</td>\n",
       "      <td>6</td>\n",
       "      <td>1Wl0fMRT0YzndDmHZCFvoT</td>\n",
       "      <td>Roadtrip</td>\n",
       "    </tr>\n",
       "    <tr>\n",
       "      <th>4631</th>\n",
       "      <td>0.449</td>\n",
       "      <td>0.585</td>\n",
       "      <td>-6.761</td>\n",
       "      <td>0.0268</td>\n",
       "      <td>0.05090</td>\n",
       "      <td>0.000087</td>\n",
       "      <td>0.0833</td>\n",
       "      <td>0.2120</td>\n",
       "      <td>139.631</td>\n",
       "      <td>278719</td>\n",
       "      <td>0</td>\n",
       "      <td>6DGIg7YNSXWz1SAnJ1S8bX</td>\n",
       "      <td>Paradise</td>\n",
       "    </tr>\n",
       "    <tr>\n",
       "      <th>4632</th>\n",
       "      <td>0.690</td>\n",
       "      <td>0.723</td>\n",
       "      <td>-9.204</td>\n",
       "      <td>0.0639</td>\n",
       "      <td>0.17400</td>\n",
       "      <td>0.000000</td>\n",
       "      <td>0.2550</td>\n",
       "      <td>0.4870</td>\n",
       "      <td>149.987</td>\n",
       "      <td>157192</td>\n",
       "      <td>4</td>\n",
       "      <td>6WzGciwEdqlkPuMf3bDmX7</td>\n",
       "      <td>Roadtrip</td>\n",
       "    </tr>\n",
       "    <tr>\n",
       "      <th>4633</th>\n",
       "      <td>0.626</td>\n",
       "      <td>0.674</td>\n",
       "      <td>-10.002</td>\n",
       "      <td>0.0411</td>\n",
       "      <td>0.00237</td>\n",
       "      <td>0.863000</td>\n",
       "      <td>0.1060</td>\n",
       "      <td>0.0489</td>\n",
       "      <td>124.977</td>\n",
       "      <td>375361</td>\n",
       "      <td>6</td>\n",
       "      <td>2IJZWPp6TnMWHyGqjrz3Ci</td>\n",
       "      <td>Roadtrip - Moritz Hofbauer Remix</td>\n",
       "    </tr>\n",
       "    <tr>\n",
       "      <th>4634</th>\n",
       "      <td>0.795</td>\n",
       "      <td>0.714</td>\n",
       "      <td>-9.901</td>\n",
       "      <td>0.0682</td>\n",
       "      <td>0.02120</td>\n",
       "      <td>0.009520</td>\n",
       "      <td>0.1170</td>\n",
       "      <td>0.6430</td>\n",
       "      <td>124.007</td>\n",
       "      <td>234320</td>\n",
       "      <td>2</td>\n",
       "      <td>4IcdIxyxy24MWhy8TgGCQE</td>\n",
       "      <td>Road Trip</td>\n",
       "    </tr>\n",
       "  </tbody>\n",
       "</table>\n",
       "<p>4635 rows × 13 columns</p>\n",
       "</div>"
      ],
      "text/plain": [
       "      danceability  energy  loudness  speechiness  acousticness  \\\n",
       "0            0.513   0.868    -5.061       0.0410       0.01850   \n",
       "1            0.646   0.359   -10.388       0.1550       0.24700   \n",
       "2            0.825   0.652    -3.183       0.0802       0.58100   \n",
       "3            0.694   0.770    -5.335       0.1490       0.17600   \n",
       "4            0.730   0.769    -5.114       0.0298       0.13800   \n",
       "...            ...     ...       ...          ...           ...   \n",
       "4630         0.719   0.580    -6.173       0.0903       0.08180   \n",
       "4631         0.449   0.585    -6.761       0.0268       0.05090   \n",
       "4632         0.690   0.723    -9.204       0.0639       0.17400   \n",
       "4633         0.626   0.674   -10.002       0.0411       0.00237   \n",
       "4634         0.795   0.714    -9.901       0.0682       0.02120   \n",
       "\n",
       "      instrumentalness  liveness  valence    tempo  duration_ms  cluster  \\\n",
       "0             0.000000    0.1210   0.3670   92.009       230467        0   \n",
       "1             0.914000    0.0872   0.1540  119.885       360147        6   \n",
       "2             0.000000    0.0931   0.9310   95.977       233713        2   \n",
       "3             0.000011    0.1180   0.1630  125.905       184560        0   \n",
       "4             0.000000    0.0473   0.5070  104.948       228093        0   \n",
       "...                ...       ...      ...      ...          ...      ...   \n",
       "4630          0.812000    0.1170   0.4900  170.099       131294        6   \n",
       "4631          0.000087    0.0833   0.2120  139.631       278719        0   \n",
       "4632          0.000000    0.2550   0.4870  149.987       157192        4   \n",
       "4633          0.863000    0.1060   0.0489  124.977       375361        6   \n",
       "4634          0.009520    0.1170   0.6430  124.007       234320        2   \n",
       "\n",
       "                          id                             names  \n",
       "0     1VU8t2MpJRLG5iFEIxqq7z               Geboren um zu leben  \n",
       "1     4YRvb9B8cgvhst11qk8CKn                        Sonnentanz  \n",
       "2     7qiZfU4dY1lWllzX7mPBI3                      Shape of You  \n",
       "3     0E9ZjEAyAwOXZ7wJC0PD33                        In My Mind  \n",
       "4     4OSBTYWVwsQhGLF9NHvIbR               Rolling in the Deep  \n",
       "...                      ...                               ...  \n",
       "4630  1Wl0fMRT0YzndDmHZCFvoT                          Roadtrip  \n",
       "4631  6DGIg7YNSXWz1SAnJ1S8bX                          Paradise  \n",
       "4632  6WzGciwEdqlkPuMf3bDmX7                          Roadtrip  \n",
       "4633  2IJZWPp6TnMWHyGqjrz3Ci  Roadtrip - Moritz Hofbauer Remix  \n",
       "4634  4IcdIxyxy24MWhy8TgGCQE                         Road Trip  \n",
       "\n",
       "[4635 rows x 13 columns]"
      ]
     },
     "execution_count": 4,
     "metadata": {},
     "output_type": "execute_result"
    }
   ],
   "source": [
    "df = pd.read_csv(\"../data/playlist5000_final.csv\")\n",
    "df"
   ]
  },
  {
   "cell_type": "code",
   "execution_count": 5,
   "metadata": {},
   "outputs": [
    {
     "data": {
      "text/plain": [
       "'hello'"
      ]
     },
     "execution_count": 5,
     "metadata": {},
     "output_type": "execute_result"
    }
   ],
   "source": [
    "song_name = input(\"Write the song:\")\n",
    "song_name"
   ]
  },
  {
   "cell_type": "code",
   "execution_count": 6,
   "metadata": {},
   "outputs": [
    {
     "name": "stdout",
     "output_type": "stream",
     "text": [
      "The name of song is: 'Hello' and the id is: 1Yk0cQdMLx5RzzFTYwmuld\n"
     ]
    },
    {
     "data": {
      "text/html": [
       "\n",
       "        <iframe\n",
       "            width=\"320\"\n",
       "            height=\"80\"\n",
       "            src=\"https://open.spotify.com/embed/track/1Yk0cQdMLx5RzzFTYwmuld?frameborder=0&allowtransparency=true&allow=encrypted-media\"\n",
       "            frameborder=\"0\"\n",
       "            allowfullscreen\n",
       "            \n",
       "        ></iframe>\n",
       "        "
      ],
      "text/plain": [
       "<IPython.lib.display.IFrame at 0x13d8381a0>"
      ]
     },
     "execution_count": 6,
     "metadata": {},
     "output_type": "execute_result"
    }
   ],
   "source": [
    "def bring_song(song_name):\n",
    "    result = sp.search(q=song_name, limit=1, market=\"DE\")\n",
    "    song_id = result[\"tracks\"][\"items\"][0][\"id\"]\n",
    "    for item in result['tracks']['items']:\n",
    "        print(\"The name of song is: '{}' and the id is: {}\".format(item['name'],item[\"id\"]))\n",
    "    view = IFrame(src=\"https://open.spotify.com/embed/track/\"+song_id, width=\"320\", height=\"80\", frameborder=\"0\", allowtransparency=\"true\", allow=\"encrypted-media\")\n",
    "    return view\n",
    "\n",
    "chosen_song = bring_song(song_name)\n",
    "chosen_song"
   ]
  },
  {
   "cell_type": "code",
   "execution_count": 7,
   "metadata": {},
   "outputs": [
    {
     "name": "stdout",
     "output_type": "stream",
     "text": [
      "The name of the song is: 'Hello' and the id is: 1Yk0cQdMLx5RzzFTYwmuld\n",
      "The predicted cluster is: 2\n"
     ]
    }
   ],
   "source": [
    "def classify_song(song_name):  \n",
    "        result = sp.search(q=song_name, limit=3, market=\"DE\")\n",
    "        song_id = result[\"tracks\"][\"items\"][0][\"id\"]\n",
    "        features = sp.audio_features(song_id)\n",
    "        \n",
    "        X = pd.DataFrame(features)\n",
    "        X = X[['danceability', 'energy', 'loudness', 'speechiness', 'acousticness', 'instrumentalness', 'liveness', 'valence', 'tempo', 'duration_ms']]\n",
    "        scaled_X = scaler.transform(X)   \n",
    "        predicted_cluster = kmeans.predict(scaled_X)[0]\n",
    "        print(\"The name of the song is: '{}' and the id is: {}\".format(result[\"tracks\"][\"items\"][0]['name'],song_id))\n",
    "        print(f\"The predicted cluster is: {predicted_cluster}\")\n",
    "\n",
    "classification = classify_song(song_name)\n",
    "classification\n"
   ]
  },
  {
   "cell_type": "code",
   "execution_count": 33,
   "metadata": {},
   "outputs": [
    {
     "name": "stdout",
     "output_type": "stream",
     "text": [
      "Recommended song: 'Don't You Need Somebody (feat. Enrique Iglesias, R. City, Serayah & Shaggy)' from the same cluster.\n"
     ]
    },
    {
     "data": {
      "text/html": [
       "\n",
       "        <iframe\n",
       "            width=\"320\"\n",
       "            height=\"80\"\n",
       "            src=\"https://open.spotify.com/embed/track/1TPUbLdzpfgF7wrPEXIAAB?frameborder=0&allowtransparency=true&allow=encrypted-media\"\n",
       "            frameborder=\"0\"\n",
       "            allowfullscreen\n",
       "            \n",
       "        ></iframe>\n",
       "        "
      ],
      "text/plain": [
       "<IPython.lib.display.IFrame at 0x149d71850>"
      ]
     },
     "execution_count": 33,
     "metadata": {},
     "output_type": "execute_result"
    }
   ],
   "source": [
    "def song_recomender(classification):\n",
    "        result = sp.search(q=song_name, limit=3, market=\"DE\")\n",
    "        song_id = result[\"tracks\"][\"items\"][0][\"id\"]\n",
    "        features = sp.audio_features(song_id)\n",
    "        X = pd.DataFrame(features)\n",
    "        X = X[['danceability', 'energy', 'loudness', 'speechiness', 'acousticness', \n",
    "                'instrumentalness', 'liveness', 'valence', 'tempo', 'duration_ms']]\n",
    "        scaled_X = scaler.transform(X)   \n",
    "        predicted_cluster = kmeans.predict(scaled_X)[0]\n",
    "        same_cluster_songs = df.loc[df['cluster'] == predicted_cluster]\n",
    "        random_sample = same_cluster_songs.sample(n=1)\n",
    "        recommended_song_name = random_sample['names'].values[0]\n",
    "        recommended_song_id = random_sample['id'].values[0]\n",
    "        print(f\"Recommended song: '{recommended_song_name}' from the same cluster.\")\n",
    "        \n",
    "        view = IFrame(src=f\"https://open.spotify.com/embed/track/{recommended_song_id}\",\n",
    "                        width=\"320\", height=\"80\",\n",
    "                        frameborder=\"0\", allowtransparency=\"true\",\n",
    "                        allow=\"encrypted-media\")\n",
    "        return view\n",
    "\n",
    "Recommend = song_recomender(classification)\n",
    "Recommend"
   ]
  }
 ],
 "metadata": {
  "kernelspec": {
   "display_name": "base",
   "language": "python",
   "name": "python3"
  },
  "language_info": {
   "codemirror_mode": {
    "name": "ipython",
    "version": 3
   },
   "file_extension": ".py",
   "mimetype": "text/x-python",
   "name": "python",
   "nbconvert_exporter": "python",
   "pygments_lexer": "ipython3",
   "version": "3.12.2"
  }
 },
 "nbformat": 4,
 "nbformat_minor": 2
}
